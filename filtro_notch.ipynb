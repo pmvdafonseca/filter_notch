{
  "nbformat": 4,
  "nbformat_minor": 0,
  "metadata": {
    "colab": {
      "name": "filtro notch.ipynb",
      "provenance": [],
      "include_colab_link": true
    },
    "kernelspec": {
      "name": "python3",
      "display_name": "Python 3"
    },
    "language_info": {
      "name": "python"
    }
  },
  "cells": [
    {
      "cell_type": "markdown",
      "metadata": {
        "id": "view-in-github",
        "colab_type": "text"
      },
      "source": [
        "<a href=\"https://colab.research.google.com/github/pmvdafonseca/filter_notch/blob/main/filtro_notch.ipynb\" target=\"_parent\"><img src=\"https://colab.research.google.com/assets/colab-badge.svg\" alt=\"Open In Colab\"/></a>"
      ]
    },
    {
      "cell_type": "code",
      "metadata": {
        "id": "L54PUBp85CLM"
      },
      "source": [
        "import numpy as np\n",
        "import matplotlib.pyplot as plt\n",
        "from scipy import signal"
      ],
      "execution_count": null,
      "outputs": []
    },
    {
      "cell_type": "code",
      "metadata": {
        "colab": {
          "base_uri": "https://localhost:8080/",
          "height": 282
        },
        "id": "ZH66Cf0a5MUg",
        "outputId": "abb91334-eb95-4543-bf7f-b25cfc01b2b4"
      },
      "source": [
        "fs = 300\n",
        "f0 = 60\n",
        "B = 6\n",
        "omega0 = 2*np.pi*f0\n",
        "bcontinuo = [1, 0, omega0**2]\n",
        "acontinuo = [1, 2*np.pi*B, omega0**2]\n",
        "wcontinuo, hcontinuo = signal.freqs(bcontinuo,acontinuo)\n",
        "\n",
        "plt.plot(wcontinuo/(2*np.pi),20*np.log10(abs(hcontinuo)))\n",
        "plt.fill([0, f0-B/2,  f0-B/2,  0], [-3, -3, -600, -600], '0.5', lw=0) \n",
        "plt.fill([160, f0+B/2,  f0+B/2,  160], [-3, -3, -600, -600], '0.5', lw=0)\n",
        "plt.ylim([-20, 1])"
      ],
      "execution_count": null,
      "outputs": [
        {
          "output_type": "execute_result",
          "data": {
            "text/plain": [
              "(-20.0, 1.0)"
            ]
          },
          "metadata": {
            "tags": []
          },
          "execution_count": 13
        },
        {
          "output_type": "display_data",
          "data": {
            "image/png": "[encoded data removed]",
            "text/plain": [
              "<Figure size 432x288 with 1 Axes>"
            ]
          },
          "metadata": {
            "tags": [],
            "needs_background": "light"
          }
        }
      ]
    },
    {
      "cell_type": "code",
      "metadata": {
        "colab": {
          "base_uri": "https://localhost:8080/",
          "height": 282
        },
        "id": "yczOTtaM6NdN",
        "outputId": "e69b1583-fec1-4c89-98c2-5214ef9d2c11"
      },
      "source": [
        "alpha = (1 - np.tan(np.pi*B/fs))/(1 + np.tan(np.pi*B/fs))\n",
        "beta = np.cos(2*np.pi*f0/fs)\n",
        "\n",
        "b = [0.5*(1+alpha),-beta*(1+alpha),0.5*(1+alpha)]\n",
        "a = [ 1, -beta*(1+alpha), alpha]\n",
        "\n",
        "w, h = signal.freqz(b,a)\n",
        "plt.plot(w/(2*np.pi)*fs,20*np.log10(abs(h)))\n",
        "plt.fill([0, f0-B/2,  f0-B/2,  0], [-3, -3, -600, -600], '0.5', lw=0) \n",
        "plt.fill([160, f0+B/2,  f0+B/2,  160], [-3, -3, -600, -600], '0.5', lw=0)\n",
        "plt.ylim([-35, 1])"
      ],
      "execution_count": null,
      "outputs": [
        {
          "output_type": "execute_result",
          "data": {
            "text/plain": [
              "(-35.0, 1.0)"
            ]
          },
          "metadata": {
            "tags": []
          },
          "execution_count": 14
        },
        {
          "output_type": "display_data",
          "data": {
            "image/png": "[encoded data removed]",
            "text/plain": [
              "<Figure size 432x288 with 1 Axes>"
            ]
          },
          "metadata": {
            "tags": [],
            "needs_background": "light"
          }
        }
      ]
    }
  ]
}